{
 "cells": [
  {
   "cell_type": "code",
   "execution_count": 11,
   "id": "5dd11eef",
   "metadata": {},
   "outputs": [
    {
     "name": "stdout",
     "output_type": "stream",
     "text": [
      "[[0, 0], [0, 1], [0, 2], [0, 3], [0, 4], [1, 4], [2, 4], [3, 4], [4, 4]]\n"
     ]
    }
   ],
   "source": [
    "bfsQueue = []\n",
    "srcRow = 0\n",
    "srcCol = 0\n",
    "desRow = 4\n",
    "desCol = 4\n",
    "totalRows = 5\n",
    "totalCols = 5\n",
    "\n",
    "bfsQueue.append([srcRow, srcCol])\n",
    "\n",
    "distanceFromSrc = []\n",
    "inf = 100000\n",
    "\n",
    "for i in range(rows):\n",
    "    tempRow = []\n",
    "    \n",
    "    for j in range (cols):\n",
    "        tempRow.append(inf)\n",
    "        \n",
    "    distanceFromSrc.append(tempRow)\n",
    "\n",
    "distanceFromSrc[srcRow][srcCol] = 0\n",
    "\n",
    "while len(bfsQueue) != 0:\n",
    "    currentCell = bfsQueue.pop(0);\n",
    "    row = currentCell[0];\n",
    "    col = currentCell[1];\n",
    "    \n",
    "    if (row == desRow and col == desCol):\n",
    "        break\n",
    "    \n",
    "    dxy = [-1, 0, 1, 0, -1];\n",
    "    \n",
    "    for i in range(4):\n",
    "        tx = row + dxy[i];\n",
    "        ty = col + dxy[i + 1];\n",
    "        \n",
    "        if not(tx < 0 or tx >= totalRows or ty < 0 or ty >= totalCols or distanceFromSrc[tx][ty] != inf):\n",
    "            bfsQueue.append([tx, ty])\n",
    "            distanceFromSrc[tx][ty] = distanceFromSrc[row][col] + 1\n",
    "\n",
    "if distanceFromSrc[desRow][desCol] != inf:\n",
    "    finalPath = [[desRow, desCol]]\n",
    "    curX = desRow\n",
    "    curY = desCol\n",
    "\n",
    "    while (curX != srcRow or curY != srcCol):\n",
    "        dxy = [-1, 0, 1, 0, -1];\n",
    "        \n",
    "        for i in range(4):\n",
    "            tx = curX + dxy[i];\n",
    "            ty = curY + dxy[i + 1];\n",
    "        \n",
    "            if not(tx < 0 or tx >= totalRows or ty < 0 or ty >= totalCols or distanceFromSrc[tx][ty] != distanceFromSrc[curX][curY] - 1):\n",
    "                finalPath.append([tx, ty])\n",
    "                curX = tx\n",
    "                curY = ty\n",
    "                break\n",
    "    \n",
    "finalPath.reverse()\n",
    "print(finalPath)\n",
    "\n",
    "    "
   ]
  },
  {
   "cell_type": "code",
   "execution_count": null,
   "id": "1c0501d3",
   "metadata": {},
   "outputs": [],
   "source": []
  }
 ],
 "metadata": {
  "kernelspec": {
   "display_name": "Python 3 (ipykernel)",
   "language": "python",
   "name": "python3"
  },
  "language_info": {
   "codemirror_mode": {
    "name": "ipython",
    "version": 3
   },
   "file_extension": ".py",
   "mimetype": "text/x-python",
   "name": "python",
   "nbconvert_exporter": "python",
   "pygments_lexer": "ipython3",
   "version": "3.10.2"
  }
 },
 "nbformat": 4,
 "nbformat_minor": 5
}
